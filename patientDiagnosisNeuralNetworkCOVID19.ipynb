{
 "cells": [
  {
   "cell_type": "markdown",
   "metadata": {
    "colab_type": "text",
    "id": "4IDb1FPYjOmx"
   },
   "source": [
    "# **Image Classification Models using *tensorflow***"
   ]
  },
  {
   "cell_type": "markdown",
   "metadata": {},
   "source": [
    "# **Kieran Bissessar**"
   ]
  },
  {
   "cell_type": "markdown",
   "metadata": {},
   "source": [
    "In this project, a sample of x-rays of people who have been tested COVID positive or negative was observed.\n",
    "The goal is **build a classifier which can predict the chance of a person having COVID-19**, given their chest x-ray scan."
   ]
  },
  {
   "cell_type": "markdown",
   "metadata": {},
   "source": [
    "The dataset for this assignment has been taken from kaggle for healthy pateints and https://github.com/ieee8023/covid-chestxray-dataset for COVID patients. The positive cases are of patients diagonised with COVID. The negative cases are people detected with other forms of infection (not COVID-19) with a few healthy patients mixed in."
   ]
  },
  {
   "cell_type": "markdown",
   "metadata": {
    "colab": {
     "base_uri": "https://localhost:8080/",
     "height": 918
    },
    "colab_type": "code",
    "id": "SeFqBdZZjt_B",
    "outputId": "86f68d20-45bf-4981-e170-6722eacfd07e"
   },
   "source": [
    "## Import Necessary Modules"
   ]
  },
  {
   "cell_type": "markdown",
   "metadata": {},
   "source": [
    "### Tensorflow Imports"
   ]
  },
  {
   "cell_type": "code",
   "execution_count": 1,
   "metadata": {},
   "outputs": [
    {
     "name": "stderr",
     "output_type": "stream",
     "text": [
      "Using TensorFlow backend.\n"
     ]
    }
   ],
   "source": [
    "import tensorflow                           as      tf\n",
    "from   tensorflow.keras                     import  layers, models\n",
    "from   keras.models                         import  Sequential\n",
    "from   keras.wrappers.scikit_learn          import  KerasClassifier\n",
    "from   tensorflow.keras.preprocessing.image import  ImageDataGenerator\n",
    "from   tensorflow.keras.layers              import  AveragePooling2D\n",
    "from   tensorflow.keras.layers              import  Dropout\n",
    "from   tensorflow.keras.layers              import  Flatten\n",
    "from   tensorflow.keras.layers              import  Dense\n",
    "from   tensorflow.keras.layers              import  Input\n",
    "from   tensorflow.keras.models              import  Model\n",
    "from   tensorflow.keras.optimizers          import  Adam\n",
    "from   tensorflow.keras.utils               import  to_categorical"
   ]
  },
  {
   "cell_type": "markdown",
   "metadata": {},
   "source": [
    "### sklearn imports"
   ]
  },
  {
   "cell_type": "code",
   "execution_count": 2,
   "metadata": {},
   "outputs": [],
   "source": [
    "from   sklearn.preprocessing                import  LabelBinarizer\n",
    "from   sklearn.model_selection              import  train_test_split\n",
    "from   sklearn.metrics                      import  classification_report\n",
    "from   sklearn.metrics                      import  confusion_matrix\n",
    "from   sklearn.metrics                      import  roc_curve\n",
    "from   sklearn.metrics                      import  auc"
   ]
  },
  {
   "cell_type": "markdown",
   "metadata": {},
   "source": [
    "### Misc imports"
   ]
  },
  {
   "cell_type": "code",
   "execution_count": 3,
   "metadata": {},
   "outputs": [],
   "source": [
    "#import sys\n",
    "#!{sys.executable} -m pip install imutils\n",
    "#!{sys.executable} -m pip install opencv-python"
   ]
  },
  {
   "cell_type": "code",
   "execution_count": 4,
   "metadata": {
    "colab": {},
    "colab_type": "code",
    "id": "yqt4B-UQl1UY"
   },
   "outputs": [],
   "source": [
    "# misc. Imports\n",
    "from   imutils                              import  paths\n",
    "import matplotlib.pyplot                    as      plt\n",
    "import numpy                                as      np\n",
    "import pandas                               as      pd\n",
    "import argparse\n",
    "import cv2\n",
    "import os\n",
    "import zipfile\n",
    "import copy"
   ]
  },
  {
   "cell_type": "markdown",
   "metadata": {},
   "source": [
    "## Unzip Dataset"
   ]
  },
  {
   "cell_type": "code",
   "execution_count": 5,
   "metadata": {},
   "outputs": [],
   "source": [
    "with zipfile.ZipFile('keras-covid-19.zip', 'r') as zip_ref:\n",
    "    zip_ref.extractall('');"
   ]
  },
  {
   "cell_type": "code",
   "execution_count": 6,
   "metadata": {
    "colab": {
     "base_uri": "https://localhost:8080/",
     "height": 34
    },
    "colab_type": "code",
    "id": "bI77TsT_mABr",
    "outputId": "3e240797-81d7-4c12-b38b-03e60bd01324"
   },
   "outputs": [
    {
     "name": "stdout",
     "output_type": "stream",
     "text": [
      "[INFO] loading images...\n"
     ]
    }
   ],
   "source": [
    "# grab the list of images in our dataset directory, then initialize\n",
    "# the list of data (i.e., images) and class images\n",
    "print(\"[INFO] loading images...\")\n",
    "imagePaths = list(paths.list_images(\"./keras-covid-19/dataset\"));\n",
    "data       = []; # holds images\n",
    "labels     = []; # holds labels associated with image"
   ]
  },
  {
   "cell_type": "code",
   "execution_count": 7,
   "metadata": {
    "colab": {
     "base_uri": "https://localhost:8080/",
     "height": 867
    },
    "colab_type": "code",
    "id": "_nEQWxqmmHbT",
    "outputId": "58e96ffb-638f-483d-f6af-d99004b35463"
   },
   "outputs": [],
   "source": [
    "#imagePaths ## this should have the path to all the images"
   ]
  },
  {
   "cell_type": "markdown",
   "metadata": {},
   "source": [
    "## Load Images and Labels"
   ]
  },
  {
   "cell_type": "code",
   "execution_count": 8,
   "metadata": {
    "colab": {},
    "colab_type": "code",
    "id": "j0Fwc-YUmOcB"
   },
   "outputs": [],
   "source": [
    "# loop over the image paths\n",
    "for imagePath in imagePaths:\n",
    "    # extract the class label from the filename\n",
    "    label = imagePath.split(os.path.sep)[-2]\n",
    "    # load the image, swap color channels, and resize it to be a fixed\n",
    "    # 224x224 pixels while ignoring aspect ratio\n",
    "    image = cv2.imread(imagePath) ## all the images are stored as a numpy array\n",
    "    image = cv2.cvtColor(image, cv2.COLOR_BGR2RGB)\n",
    "    image = cv2.resize(image, (224, 224))\n",
    "\n",
    "    # update the data and labels lists, respectively\n",
    "    data.append(image)\n",
    "    labels.append(label)"
   ]
  },
  {
   "cell_type": "code",
   "execution_count": 9,
   "metadata": {
    "colab": {
     "base_uri": "https://localhost:8080/",
     "height": 34
    },
    "colab_type": "code",
    "id": "mm0Ro5WwmWqw",
    "outputId": "6a1da375-cbe9-4c59-e9ca-a5f6ccaf6619"
   },
   "outputs": [
    {
     "data": {
      "text/plain": [
       "(224, 224, 3)"
      ]
     },
     "execution_count": 9,
     "metadata": {},
     "output_type": "execute_result"
    }
   ],
   "source": [
    "### getting the shape of the images\n",
    "image.shape"
   ]
  },
  {
   "cell_type": "code",
   "execution_count": 10,
   "metadata": {
    "colab": {},
    "colab_type": "code",
    "id": "3pUCVAyOmX1p"
   },
   "outputs": [],
   "source": [
    "# convert the data and labels to NumPy arrays while scaling the pixel\n",
    "# intensities to the range [0, 255]\n",
    "data   = np.array(data) / 255.0;\n",
    "labels = np.array(labels);"
   ]
  },
  {
   "cell_type": "markdown",
   "metadata": {
    "colab_type": "text",
    "id": "eImpNYjemvqC"
   },
   "source": [
    "# 1 Perform **One Hot Encoding** of the labels\n",
    "\n",
    "For binary class we sometimes don't need to do one hot encoding since we can assign one as 0 and the other as 1. However in this case we are going to calculate the probability for both outcomes. "
   ]
  },
  {
   "cell_type": "code",
   "execution_count": 11,
   "metadata": {
    "colab": {},
    "colab_type": "code",
    "id": "rMIMNqWvmqAu"
   },
   "outputs": [],
   "source": [
    "# perform one-hot encoding on the labels \n",
    "# hint there should be now two columns in Y\n",
    "#print(labels);\n",
    "covidLst  = [];\n",
    "normalLst = [];\n",
    "\n",
    "for i in range(len(labels)):\n",
    "    if (labels[i] == \"covid\"):\n",
    "        covidLst.append(1);\n",
    "        normalLst.append(0);\n",
    "    else:\n",
    "        covidLst.append(0);\n",
    "        normalLst.append(1);\n",
    "#print(covidLst)\n",
    "#print(normalLst)\n",
    "hotLabEncDict = {\"covid\"  : covidLst,\n",
    "                 \"normal\" : normalLst}\n",
    "labels_cat    = copy.deepcopy(labels);\n",
    "labels        = pd.DataFrame.from_dict(hotLabEncDict);\n",
    "labels        = labels.to_numpy()\n",
    "#labels\n"
   ]
  },
  {
   "cell_type": "markdown",
   "metadata": {
    "colab_type": "text",
    "id": "htoRaw7Tm_zu"
   },
   "source": [
    "# 2 Partition the data into **training and testing splits** using 80% of the data for training and the remaining 20% for testing make sure the output of the split is called as ***trainX***, ***testX***, ***trainY***, ***testY***"
   ]
  },
  {
   "cell_type": "code",
   "execution_count": 12,
   "metadata": {
    "colab": {},
    "colab_type": "code",
    "id": "tLJQAetCm1eD"
   },
   "outputs": [],
   "source": [
    "trainX, testX, trainY, testY = train_test_split(data,\n",
    "                                                labels,\n",
    "                                                test_size    = 0.2,\n",
    "                                                random_state = 0)"
   ]
  },
  {
   "cell_type": "markdown",
   "metadata": {
    "colab_type": "text",
    "id": "wng9BUpJnP6O"
   },
   "source": [
    "# Perform image augmentation. Rotate the image by upto **15 degrees**"
   ]
  },
  {
   "cell_type": "code",
   "execution_count": 13,
   "metadata": {
    "colab": {},
    "colab_type": "code",
    "id": "d14_xHpknX1J"
   },
   "outputs": [],
   "source": [
    "# initialize the training data augmentation object\n",
    "trainAug = ImageDataGenerator(\n",
    "    rotation_range = 15,\n",
    "    fill_mode      = \"nearest\")"
   ]
  },
  {
   "cell_type": "markdown",
   "metadata": {
    "colab_type": "text",
    "id": "QJHu17ETneob"
   },
   "source": [
    "# 3 Create model. Input takes in images of shape ***( 224 , 224 , 3 )***  and the output is **2**, given that we have 2 labels to predict"
   ]
  },
  {
   "cell_type": "code",
   "execution_count": 14,
   "metadata": {},
   "outputs": [],
   "source": [
    "INIT_LR = 1e-3 # Initial Learning Rate\n",
    "EPOCHS  = 25   # Number of Epochs\n",
    "BS      = 8    # Batch Size"
   ]
  },
  {
   "cell_type": "code",
   "execution_count": 15,
   "metadata": {
    "colab": {},
    "colab_type": "code",
    "id": "HT6pVSeHnYn4"
   },
   "outputs": [],
   "source": [
    "def make_model():\n",
    "    \n",
    "    model = models.Sequential()\n",
    "    \n",
    "    # Input Layer\n",
    "    model.add(layers.Conv2D(32, (3,3), input_shape = (224, 224, 3)))\n",
    "    model.add(layers.Activation(\"relu\"))\n",
    "    model.add(layers.MaxPooling2D(pool_size = (2,2)))\n",
    "    \n",
    "    # Hidden Layer 1\n",
    "    model.add(layers.Conv2D(32, (3,3)))\n",
    "    model.add(layers.Activation(\"relu\"))\n",
    "    model.add(layers.MaxPooling2D(pool_size = (2,2)))\n",
    "    \n",
    "    # Hidden Layer 2\n",
    "    model.add(Flatten())\n",
    "    model.add(Dense(32))\n",
    "    model.add(layers.Activation(\"relu\"))\n",
    "    \n",
    "    # Output Layer\n",
    "    model.add(Dense(2))\n",
    "    model.add(layers.Activation('sigmoid'))\n",
    "\n",
    "    return model"
   ]
  },
  {
   "cell_type": "code",
   "execution_count": 16,
   "metadata": {
    "colab": {},
    "colab_type": "code",
    "id": "dTliNehTn8cz"
   },
   "outputs": [],
   "source": [
    "model = make_model()\n"
   ]
  },
  {
   "cell_type": "code",
   "execution_count": 17,
   "metadata": {
    "colab": {},
    "colab_type": "code",
    "id": "Fg_GObS9ohBi"
   },
   "outputs": [
    {
     "name": "stdout",
     "output_type": "stream",
     "text": [
      "[INFO] compiling model...\n"
     ]
    }
   ],
   "source": [
    "### defining the loss, and compiling the model\n",
    "\n",
    "# compile our model\n",
    "print(\"[INFO] compiling model...\")\n",
    "\n",
    "opt = Adam(lr    = INIT_LR,\n",
    "           decay = (INIT_LR / EPOCHS))\n",
    "\n",
    "model.compile(loss      = \"binary_crossentropy\",\n",
    "              optimizer = opt,\n",
    "              metrics   = [\"accuracy\"])\n",
    "\n"
   ]
  },
  {
   "cell_type": "code",
   "execution_count": 18,
   "metadata": {},
   "outputs": [],
   "source": [
    "#class TestCallback(tf.keras.callbacks.Callback):\n",
    "#    def __init__(self, test_data):\n",
    "#        self.test_data = test_data\n",
    "#\n",
    "#    def on_epoch_end(self, epoch, logs={}):\n",
    "#        x, y = self.test_data\n",
    "#        loss, acc = self.model.evaluate(x, y, verbose=0)\n",
    "#        print('\\nTesting loss: {}, \\nTesting acc: {}\\n'.format(loss, acc))"
   ]
  },
  {
   "cell_type": "markdown",
   "metadata": {
    "colab_type": "text",
    "id": "Swn2vKHqooGb"
   },
   "source": [
    "# Q4 **Fit** our model on train data\n",
    "\n",
    "\n"
   ]
  },
  {
   "cell_type": "code",
   "execution_count": 19,
   "metadata": {
    "colab": {},
    "colab_type": "code",
    "id": "9X5Qrn0molIq"
   },
   "outputs": [
    {
     "name": "stdout",
     "output_type": "stream",
     "text": [
      "WARNING:tensorflow:sample_weight modes were coerced from\n",
      "  ...\n",
      "    to  \n",
      "  ['...']\n",
      "Train for 5 steps, validate on 10 samples\n",
      "Epoch 1/25\n",
      "5/5 [==============================] - 2s 344ms/step - loss: 0.9165 - accuracy: 0.5500 - val_loss: 0.7497 - val_accuracy: 0.5000\n",
      "Epoch 2/25\n",
      "5/5 [==============================] - 1s 245ms/step - loss: 0.6616 - accuracy: 0.6125 - val_loss: 0.6475 - val_accuracy: 0.7000\n",
      "Epoch 3/25\n",
      "5/5 [==============================] - 1s 244ms/step - loss: 0.6233 - accuracy: 0.7250 - val_loss: 0.5879 - val_accuracy: 0.6000\n",
      "Epoch 4/25\n",
      "5/5 [==============================] - 1s 241ms/step - loss: 0.4938 - accuracy: 0.8375 - val_loss: 0.4420 - val_accuracy: 0.8000\n",
      "Epoch 5/25\n",
      "5/5 [==============================] - 1s 241ms/step - loss: 0.3258 - accuracy: 0.9625 - val_loss: 0.3440 - val_accuracy: 0.7500\n",
      "Epoch 6/25\n",
      "5/5 [==============================] - 1s 250ms/step - loss: 0.1361 - accuracy: 0.9750 - val_loss: 0.3293 - val_accuracy: 0.8000\n",
      "Epoch 7/25\n",
      "5/5 [==============================] - 1s 258ms/step - loss: 0.1127 - accuracy: 0.9750 - val_loss: 0.2138 - val_accuracy: 0.8500\n",
      "Epoch 8/25\n",
      "5/5 [==============================] - 1s 257ms/step - loss: 0.0727 - accuracy: 0.9875 - val_loss: 0.1074 - val_accuracy: 1.0000\n",
      "Epoch 9/25\n",
      "5/5 [==============================] - 1s 267ms/step - loss: 0.0801 - accuracy: 0.9750 - val_loss: 0.1525 - val_accuracy: 0.9000\n",
      "Epoch 10/25\n",
      "5/5 [==============================] - 1s 246ms/step - loss: 0.0713 - accuracy: 0.9625 - val_loss: 0.0939 - val_accuracy: 0.9500\n",
      "Epoch 11/25\n",
      "5/5 [==============================] - 1s 257ms/step - loss: 0.0168 - accuracy: 1.0000 - val_loss: 0.2294 - val_accuracy: 0.8000\n",
      "Epoch 12/25\n",
      "5/5 [==============================] - 1s 245ms/step - loss: 0.0419 - accuracy: 0.9750 - val_loss: 0.0385 - val_accuracy: 1.0000\n",
      "Epoch 13/25\n",
      "5/5 [==============================] - 1s 242ms/step - loss: 0.0130 - accuracy: 1.0000 - val_loss: 0.0286 - val_accuracy: 1.0000\n",
      "Epoch 14/25\n",
      "5/5 [==============================] - 1s 248ms/step - loss: 0.0062 - accuracy: 1.0000 - val_loss: 0.1713 - val_accuracy: 0.9000\n",
      "Epoch 15/25\n",
      "5/5 [==============================] - 1s 259ms/step - loss: 0.0131 - accuracy: 1.0000 - val_loss: 0.0123 - val_accuracy: 1.0000\n",
      "Epoch 16/25\n",
      "5/5 [==============================] - 1s 254ms/step - loss: 0.0137 - accuracy: 1.0000 - val_loss: 0.0162 - val_accuracy: 1.0000\n",
      "Epoch 17/25\n",
      "5/5 [==============================] - 1s 268ms/step - loss: 0.0013 - accuracy: 1.0000 - val_loss: 0.0242 - val_accuracy: 1.0000\n",
      "Epoch 18/25\n",
      "5/5 [==============================] - 1s 283ms/step - loss: 0.0023 - accuracy: 1.0000 - val_loss: 0.0483 - val_accuracy: 1.0000\n",
      "Epoch 19/25\n",
      "5/5 [==============================] - 1s 280ms/step - loss: 0.0133 - accuracy: 1.0000 - val_loss: 0.0135 - val_accuracy: 1.0000\n",
      "Epoch 20/25\n",
      "5/5 [==============================] - 1s 279ms/step - loss: 0.0039 - accuracy: 1.0000 - val_loss: 0.0415 - val_accuracy: 1.0000\n",
      "Epoch 21/25\n",
      "5/5 [==============================] - 1s 284ms/step - loss: 0.0026 - accuracy: 1.0000 - val_loss: 0.0278 - val_accuracy: 1.0000\n",
      "Epoch 22/25\n",
      "5/5 [==============================] - 1s 280ms/step - loss: 0.0055 - accuracy: 1.0000 - val_loss: 0.0130 - val_accuracy: 1.0000\n",
      "Epoch 23/25\n",
      "5/5 [==============================] - 1s 278ms/step - loss: 5.4801e-04 - accuracy: 1.0000 - val_loss: 0.0270 - val_accuracy: 1.0000\n",
      "Epoch 24/25\n",
      "5/5 [==============================] - 1s 277ms/step - loss: 8.5117e-04 - accuracy: 1.0000 - val_loss: 0.0481 - val_accuracy: 1.0000\n",
      "Epoch 25/25\n",
      "5/5 [==============================] - 1s 277ms/step - loss: 9.1362e-04 - accuracy: 1.0000 - val_loss: 0.0380 - val_accuracy: 1.0000\n"
     ]
    }
   ],
   "source": [
    "#hist = model.fit_generator(trainAug.flow(trainX, trainY, batch_size = BS), epochs = EPOCHS);\n",
    "hist = model.fit(trainAug.flow(trainX, trainY, batch_size = BS), epochs = EPOCHS,\n",
    "                 validation_data = (testX, testY))\n",
    "                 #callbacks = [TestCallback((testX, testY))]);"
   ]
  },
  {
   "cell_type": "code",
   "execution_count": 20,
   "metadata": {
    "colab": {},
    "colab_type": "code",
    "id": "ZO0Fuh4vo28C"
   },
   "outputs": [
    {
     "name": "stdout",
     "output_type": "stream",
     "text": [
      "[INFO] evaluating network...\n"
     ]
    }
   ],
   "source": [
    "# make predictions on the testing set\n",
    "print(\"[INFO] evaluating network...\")\n",
    "predIdxs = model.predict(testX, batch_size = BS)\n",
    "predIdxs_orig = copy.deepcopy(predIdxs)"
   ]
  },
  {
   "cell_type": "code",
   "execution_count": 21,
   "metadata": {
    "colab": {},
    "colab_type": "code",
    "id": "n-PLh2tOo4eB"
   },
   "outputs": [
    {
     "name": "stdout",
     "output_type": "stream",
     "text": [
      "              precision    recall  f1-score   support\n",
      "\n",
      "           0       1.00      1.00      1.00         5\n",
      "           1       1.00      1.00      1.00         5\n",
      "\n",
      "    accuracy                           1.00        10\n",
      "   macro avg       1.00      1.00      1.00        10\n",
      "weighted avg       1.00      1.00      1.00        10\n",
      "\n"
     ]
    }
   ],
   "source": [
    "# for each image in the testing set we need to find the index of the\n",
    "# label with corresponding largest predicted probability\n",
    "predIdxs = np.argmax(predIdxs, axis = 1)\n",
    "# show a nicely formatted classification report\n",
    "print(classification_report(testY.argmax(axis = 1), predIdxs))#, target_names = np.array(['covid', 'normal'])))"
   ]
  },
  {
   "cell_type": "code",
   "execution_count": 22,
   "metadata": {},
   "outputs": [
    {
     "name": "stdout",
     "output_type": "stream",
     "text": [
      "Actual Results    :  [1 0 0 1 0 1 1 1 0 0]\n",
      "Predicted Results :  [1 0 0 1 0 1 1 1 0 0] \n",
      "\n",
      "Index:  0 \tActual:  1 \t Pred:  1 \tCorrect\n",
      "Index:  1 \tActual:  0 \t Pred:  0 \tCorrect\n",
      "Index:  2 \tActual:  0 \t Pred:  0 \tCorrect\n",
      "Index:  3 \tActual:  1 \t Pred:  1 \tCorrect\n",
      "Index:  4 \tActual:  0 \t Pred:  0 \tCorrect\n",
      "Index:  5 \tActual:  1 \t Pred:  1 \tCorrect\n",
      "Index:  6 \tActual:  1 \t Pred:  1 \tCorrect\n",
      "Index:  7 \tActual:  1 \t Pred:  1 \tCorrect\n",
      "Index:  8 \tActual:  0 \t Pred:  0 \tCorrect\n",
      "Index:  9 \tActual:  0 \t Pred:  0 \tCorrect\n",
      "\n",
      "Accuracy:  10 / 10 ( 100.0 % )\n"
     ]
    }
   ],
   "source": [
    "print(\"Actual Results    : \", testY.argmax(axis = 1));\n",
    "print(\"Predicted Results : \", predIdxs, \"\\n\");\n",
    "\n",
    "testVals = testY.argmax(axis = 1);\n",
    "right=0\n",
    "for i in range(len(predIdxs)):\n",
    "    if testVals[i] == predIdxs[i]:\n",
    "        right+=1\n",
    "        print(\"Index: \", i, \"\\tActual: \", testVals[i], \"\\t Pred: \", predIdxs[i], \"\\tCorrect\")\n",
    "    else:\n",
    "        print(\"Index: \", i, \"\\tActual: \", testVals[i], \"\\t Pred: \", predIdxs[i], \"\\tWrong\")\n",
    "\n",
    "print(\"\\nAccuracy: \", right, \"/\" , len(predIdxs), \"(\" , (right/len(predIdxs))*100 ,\"%\" , \")\" )"
   ]
  },
  {
   "cell_type": "markdown",
   "metadata": {
    "colab_type": "text",
    "id": "aIXC1iXhI2Di"
   },
   "source": []
  },
  {
   "cell_type": "markdown",
   "metadata": {
    "colab_type": "text",
    "id": "rGy5sZOipD-7"
   },
   "source": [
    "# 5 Calculate the **Accuracy** on the Train and Test Set. Also show the **Confusion Matix** and plot the **ROC Curve**\n",
    "\n",
    "See [link](https://en.wikipedia.org/wiki/Receiver_operating_characteristic) for some background on what actually is ROC curve. We will review this in class.\n",
    "See [link](https://scikit-learn.org/stable/auto_examples/model_selection/plot_roc.html#) for python example.\n",
    "\n",
    "The main idea behind using AUC/ROC is that, though the model accuracy is very high, the model might not be learning the important examples well, and one way to check the models ability to check for generalization, is by using the AUC ROC curve"
   ]
  },
  {
   "cell_type": "code",
   "execution_count": 23,
   "metadata": {},
   "outputs": [],
   "source": [
    "fpr_keras, tpr_keras, thresholds_keras = roc_curve(testY.ravel(), predIdxs_orig.ravel())\n",
    "auc_keras = auc(fpr_keras, tpr_keras)"
   ]
  },
  {
   "cell_type": "code",
   "execution_count": 24,
   "metadata": {},
   "outputs": [
    {
     "data": {
      "image/png": "[encoded data removed]",
      "text/plain": [
       "<Figure size 1080x360 with 1 Axes>"
      ]
     },
     "metadata": {
      "needs_background": "dark"
     },
     "output_type": "display_data"
    }
   ],
   "source": [
    "plt.figure(figsize=(15,5))\n",
    "plt.style.use('dark_background')\n",
    "plt.title('ROC curve', size = 25)\n",
    "plt.plot([0, 1], [0, 1], 'k--', color = 'crimson')\n",
    "plt.plot(fpr_keras, tpr_keras, label='Keras (area = {:.3f})'.format(auc_keras), color = 'cyan')\n",
    "plt.xlabel('False positive rate', size = 16)\n",
    "plt.ylabel('True positive rate', size = 16)\n",
    "plt.legend(loc='best')\n",
    "plt.show()"
   ]
  },
  {
   "cell_type": "markdown",
   "metadata": {},
   "source": [
    "Based on the ROC Curve, there seems to be more true positives than false positives. This is good."
   ]
  },
  {
   "cell_type": "markdown",
   "metadata": {
    "colab_type": "text",
    "id": "ppLMiFwzpV2b"
   },
   "source": [
    "## Plot the train and test less and the train and test accuracy for every epoch in one single plot\n",
    "\n",
    "Most of the time as we increase the number of epochs the model performs better on train set but, starts to perform worse on validation set. In such cases, we use these plots, to decide which is the most optimal epoch at which the model dosent overfit, and we take the model corresponding to that epoch to test on unseen examples.\n",
    "\n",
    "Tensorflow lets you save your model after every epoch, you can also experiment with saving and loading the trained models (Optional)"
   ]
  },
  {
   "cell_type": "code",
   "execution_count": 25,
   "metadata": {},
   "outputs": [],
   "source": [
    "#print(\"Train Metrics\")\n",
    "#train_results = model.evaluate (trainX , trainY , batch_size = BS);\n",
    "#print(\"\\tTrain Loss     : \" , train_results[0] , \"\\n\\tTrain Accuracy : \" , train_results[1] , \"\\n\")\n",
    "#print(\"Test Metrics\")\n",
    "#test_results  = model.evaluate (testX  , testY  , batch_size = BS);\n",
    "#print(\"\\tTest Loss      : \" , test_results[0] , \"\\n\\tTest Accuracy  : \"  , test_results[1]  , \"\\n\")"
   ]
  },
  {
   "cell_type": "code",
   "execution_count": 26,
   "metadata": {
    "colab": {},
    "colab_type": "code",
    "id": "jDud5poJpTbP"
   },
   "outputs": [
    {
     "data": {
      "text/plain": [
       "<function matplotlib.pyplot.show(*args, **kw)>"
      ]
     },
     "execution_count": 26,
     "metadata": {},
     "output_type": "execute_result"
    },
    {
     "data": {
      "image/png": "[encoded data removed]",
      "text/plain": [
       "<Figure size 1080x360 with 1 Axes>"
      ]
     },
     "metadata": {},
     "output_type": "display_data"
    }
   ],
   "source": [
    "train_acc  = hist.history['accuracy']\n",
    "train_loss = hist.history['loss']\n",
    "test_acc   = hist.history['val_accuracy']\n",
    "test_loss = hist.history['val_loss']\n",
    "\n",
    "\n",
    "epochs = range(EPOCHS)\n",
    "plt.figure(figsize=(15,5))\n",
    "plt.style.use('dark_background')\n",
    "plt.title(\"Accuracy Plot\", size = 25)\n",
    "plt.plot(epochs, train_acc, label = 'Training Acurracy', color = \"crimson\")\n",
    "plt.plot(epochs, test_acc, label = 'Testing Acurracy', color = \"cyan\")\n",
    "plt.legend();\n",
    "plt.xlabel(\"Epoch\", size = 16)\n",
    "plt.show\n",
    "#plt.plot(epochs, loss, label = 'Loss', color = 'limegreen')\n",
    "\n"
   ]
  },
  {
   "cell_type": "code",
   "execution_count": 27,
   "metadata": {},
   "outputs": [
    {
     "name": "stdout",
     "output_type": "stream",
     "text": [
      "dict_keys(['loss', 'accuracy', 'val_loss', 'val_accuracy'])\n"
     ]
    },
    {
     "data": {
      "text/plain": [
       "<function matplotlib.pyplot.show(*args, **kw)>"
      ]
     },
     "execution_count": 27,
     "metadata": {},
     "output_type": "execute_result"
    },
    {
     "data": {
      "image/png": "[encoded data removed]",
      "text/plain": [
       "<Figure size 1080x360 with 1 Axes>"
      ]
     },
     "metadata": {},
     "output_type": "display_data"
    }
   ],
   "source": [
    "acc  = hist.history['accuracy']\n",
    "loss = hist.history['loss']\n",
    "print(hist.history.keys())\n",
    "epochs = range(EPOCHS)\n",
    "plt.style.use('dark_background')\n",
    "plt.figure(figsize=(15,5))\n",
    "plt.title(\"Loss Plot\", size = 25)\n",
    "plt.plot(epochs, train_loss, label = 'Training Loss', color = \"crimson\")\n",
    "plt.plot(epochs, test_loss, label = 'Testing Loss', color = \"cyan\")\n",
    "plt.legend();\n",
    "plt.xlabel(\"Epoch\", size = 16)\n",
    "plt.show"
   ]
  },
  {
   "cell_type": "code",
   "execution_count": 28,
   "metadata": {
    "colab": {},
    "colab_type": "code",
    "id": "1l7tVXUDpQQW"
   },
   "outputs": [
    {
     "name": "stdout",
     "output_type": "stream",
     "text": [
      "[[5 0]\n",
      " [0 5]]\n"
     ]
    },
    {
     "data": {
      "image/png": "[encoded data removed]",
      "text/plain": [
       "<Figure size 432x288 with 1 Axes>"
      ]
     },
     "metadata": {},
     "output_type": "display_data"
    }
   ],
   "source": [
    "disp = confusion_matrix(testY.argmax(axis = 1), predIdxs)\n",
    "print(disp)\n",
    "plt.imshow(disp, cmap='binary', interpolation='None')\n",
    "plt.show()"
   ]
  },
  {
   "cell_type": "code",
   "execution_count": null,
   "metadata": {},
   "outputs": [],
   "source": []
  },
  {
   "cell_type": "markdown",
   "metadata": {
    "colab_type": "text",
    "id": "UO_jqfKpnxzv"
   },
   "source": [
    "# A model can have an **accuracy of 99%** and still **not be considered a good model**"
   ]
  },
  {
   "cell_type": "markdown",
   "metadata": {
    "colab": {},
    "colab_type": "code",
    "id": "YOz6EeneoErX"
   },
   "source": [
    "It is very possible to have a case where the model accuracy is very high and still is a bad model. This happens when **overfitting** is present. In this case the model begins to just memorize the data instead of trying to understand ways to classify it. This is no good and can happen if there is an excessive number of epochs or if there are lots of parameters trained on a **small dataset**."
   ]
  },
  {
   "cell_type": "code",
   "execution_count": null,
   "metadata": {},
   "outputs": [],
   "source": []
  }
 ],
 "metadata": {
  "colab": {
   "collapsed_sections": [],
   "name": "Assignment8.ipynb",
   "provenance": [],
   "toc_visible": true
  },
  "kernelspec": {
   "display_name": "Python 3",
   "language": "python",
   "name": "python3"
  },
  "language_info": {
   "codemirror_mode": {
    "name": "ipython",
    "version": 3
   },
   "file_extension": ".py",
   "mimetype": "text/x-python",
   "name": "python",
   "nbconvert_exporter": "python",
   "pygments_lexer": "ipython3",
   "version": "3.7.4"
  }
 },
 "nbformat": 4,
 "nbformat_minor": 1
}
